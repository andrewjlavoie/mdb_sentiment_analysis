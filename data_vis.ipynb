{
 "cells": [
  {
   "cell_type": "code",
   "execution_count": 74,
   "metadata": {},
   "outputs": [],
   "source": [
    "import pandas as pd\n",
    "import seaborn as sns\n",
    "import pymongo\n",
    "import pprint\n",
    "\n",
    "import config\n",
    "\n",
    "client = pymongo.MongoClient(config.mdb_uri)\n",
    "collection = client[config.db][config.collection]\n"
   ]
  },
  {
   "cell_type": "code",
   "execution_count": 75,
   "metadata": {},
   "outputs": [
    {
     "name": "stdout",
     "output_type": "stream",
     "text": [
      "<pymongo.command_cursor.CommandCursor object at 0x0000028527F93430>\n"
     ]
    }
   ],
   "source": [
    "news_posts = collection.aggregate([\n",
    "    {\n",
    "        '$match': { \n",
    "            'subreddit': {\"$in\": ['news', 'stocks', 'science', 'todayilearned', 'worldnews', 'nottheonion', 'coffee']},\n",
    "            'sentiment.title_score': {\n",
    "                '$exists': True\n",
    "            }\n",
    "        }\n",
    "    }, {\n",
    "        '$project': {\n",
    "            'title': 1,\n",
    "            'subreddit': 1,\n",
    "            'sentiment_title_score_neg': '$sentiment.title_score.neg', \n",
    "            'sentiment_title_score_neu': '$sentiment.title_score.neu', \n",
    "            'sentiment_title_score_pos': '$sentiment.title_score.pos'\n",
    "        }\n",
    "    }\n",
    "])\n",
    "\n",
    "pprint.pprint(news_posts)"
   ]
  },
  {
   "cell_type": "code",
   "execution_count": 76,
   "metadata": {},
   "outputs": [],
   "source": [
    "dataframe = pd.DataFrame(list(news_posts))"
   ]
  },
  {
   "cell_type": "code",
   "execution_count": 77,
   "metadata": {},
   "outputs": [
    {
     "data": {
      "text/html": [
       "<div>\n",
       "<style scoped>\n",
       "    .dataframe tbody tr th:only-of-type {\n",
       "        vertical-align: middle;\n",
       "    }\n",
       "\n",
       "    .dataframe tbody tr th {\n",
       "        vertical-align: top;\n",
       "    }\n",
       "\n",
       "    .dataframe thead th {\n",
       "        text-align: right;\n",
       "    }\n",
       "</style>\n",
       "<table border=\"1\" class=\"dataframe\">\n",
       "  <thead>\n",
       "    <tr style=\"text-align: right;\">\n",
       "      <th></th>\n",
       "      <th>sentiment_title_score_neg</th>\n",
       "      <th>sentiment_title_score_neu</th>\n",
       "      <th>sentiment_title_score_pos</th>\n",
       "    </tr>\n",
       "  </thead>\n",
       "  <tbody>\n",
       "    <tr>\n",
       "      <th>count</th>\n",
       "      <td>620.000000</td>\n",
       "      <td>620.000000</td>\n",
       "      <td>620.000000</td>\n",
       "    </tr>\n",
       "    <tr>\n",
       "      <th>mean</th>\n",
       "      <td>0.119642</td>\n",
       "      <td>0.803434</td>\n",
       "      <td>0.076902</td>\n",
       "    </tr>\n",
       "    <tr>\n",
       "      <th>std</th>\n",
       "      <td>0.155973</td>\n",
       "      <td>0.175792</td>\n",
       "      <td>0.126161</td>\n",
       "    </tr>\n",
       "    <tr>\n",
       "      <th>min</th>\n",
       "      <td>0.000000</td>\n",
       "      <td>0.202000</td>\n",
       "      <td>0.000000</td>\n",
       "    </tr>\n",
       "    <tr>\n",
       "      <th>25%</th>\n",
       "      <td>0.000000</td>\n",
       "      <td>0.679500</td>\n",
       "      <td>0.000000</td>\n",
       "    </tr>\n",
       "    <tr>\n",
       "      <th>50%</th>\n",
       "      <td>0.000000</td>\n",
       "      <td>0.814500</td>\n",
       "      <td>0.000000</td>\n",
       "    </tr>\n",
       "    <tr>\n",
       "      <th>75%</th>\n",
       "      <td>0.218250</td>\n",
       "      <td>1.000000</td>\n",
       "      <td>0.131000</td>\n",
       "    </tr>\n",
       "    <tr>\n",
       "      <th>max</th>\n",
       "      <td>0.798000</td>\n",
       "      <td>1.000000</td>\n",
       "      <td>0.661000</td>\n",
       "    </tr>\n",
       "  </tbody>\n",
       "</table>\n",
       "</div>"
      ],
      "text/plain": [
       "       sentiment_title_score_neg  sentiment_title_score_neu  \\\n",
       "count                 620.000000                 620.000000   \n",
       "mean                    0.119642                   0.803434   \n",
       "std                     0.155973                   0.175792   \n",
       "min                     0.000000                   0.202000   \n",
       "25%                     0.000000                   0.679500   \n",
       "50%                     0.000000                   0.814500   \n",
       "75%                     0.218250                   1.000000   \n",
       "max                     0.798000                   1.000000   \n",
       "\n",
       "       sentiment_title_score_pos  \n",
       "count                 620.000000  \n",
       "mean                    0.076902  \n",
       "std                     0.126161  \n",
       "min                     0.000000  \n",
       "25%                     0.000000  \n",
       "50%                     0.000000  \n",
       "75%                     0.131000  \n",
       "max                     0.661000  "
      ]
     },
     "execution_count": 77,
     "metadata": {},
     "output_type": "execute_result"
    }
   ],
   "source": [
    "dataframe.describe()"
   ]
  },
  {
   "cell_type": "code",
   "execution_count": 78,
   "metadata": {},
   "outputs": [],
   "source": [
    "dataframe = dataframe[dataframe['sentiment_title_score_neg'] != 0]\n",
    "dataframe = dataframe[dataframe['sentiment_title_score_neu'] != 0]\n",
    "dataframe = dataframe[dataframe['sentiment_title_score_pos'] != 0]"
   ]
  },
  {
   "cell_type": "code",
   "execution_count": 79,
   "metadata": {},
   "outputs": [
    {
     "data": {
      "text/plain": [
       "<seaborn.axisgrid.FacetGrid at 0x285282e45b0>"
      ]
     },
     "execution_count": 79,
     "metadata": {},
     "output_type": "execute_result"
    },
    {
     "data": {
      "image/png": "[encoded data removed]",
      "text/plain": [
       "<Figure size 465.125x360 with 1 Axes>"
      ]
     },
     "metadata": {
      "needs_background": "light"
     },
     "output_type": "display_data"
    }
   ],
   "source": [
    "sns.relplot(x='sentiment_title_score_neg', y='sentiment_title_score_pos', hue='subreddit', data=dataframe)"
   ]
  },
  {
   "cell_type": "code",
   "execution_count": 80,
   "metadata": {},
   "outputs": [
    {
     "data": {
      "text/html": [
       "<div>\n",
       "<style scoped>\n",
       "    .dataframe tbody tr th:only-of-type {\n",
       "        vertical-align: middle;\n",
       "    }\n",
       "\n",
       "    .dataframe tbody tr th {\n",
       "        vertical-align: top;\n",
       "    }\n",
       "\n",
       "    .dataframe thead th {\n",
       "        text-align: right;\n",
       "    }\n",
       "</style>\n",
       "<table border=\"1\" class=\"dataframe\">\n",
       "  <thead>\n",
       "    <tr style=\"text-align: right;\">\n",
       "      <th></th>\n",
       "      <th>sentiment_title_score_neg</th>\n",
       "      <th>sentiment_title_score_neu</th>\n",
       "      <th>sentiment_title_score_pos</th>\n",
       "    </tr>\n",
       "    <tr>\n",
       "      <th>subreddit</th>\n",
       "      <th></th>\n",
       "      <th></th>\n",
       "      <th></th>\n",
       "    </tr>\n",
       "  </thead>\n",
       "  <tbody>\n",
       "    <tr>\n",
       "      <th>coffee</th>\n",
       "      <td>0.1330</td>\n",
       "      <td>0.7045</td>\n",
       "      <td>0.1855</td>\n",
       "    </tr>\n",
       "    <tr>\n",
       "      <th>news</th>\n",
       "      <td>0.1500</td>\n",
       "      <td>0.6250</td>\n",
       "      <td>0.1530</td>\n",
       "    </tr>\n",
       "    <tr>\n",
       "      <th>nottheonion</th>\n",
       "      <td>0.2340</td>\n",
       "      <td>0.5560</td>\n",
       "      <td>0.1170</td>\n",
       "    </tr>\n",
       "    <tr>\n",
       "      <th>science</th>\n",
       "      <td>0.1390</td>\n",
       "      <td>0.7400</td>\n",
       "      <td>0.1120</td>\n",
       "    </tr>\n",
       "    <tr>\n",
       "      <th>stocks</th>\n",
       "      <td>0.2805</td>\n",
       "      <td>0.4850</td>\n",
       "      <td>0.2345</td>\n",
       "    </tr>\n",
       "    <tr>\n",
       "      <th>todayilearned</th>\n",
       "      <td>0.1055</td>\n",
       "      <td>0.7945</td>\n",
       "      <td>0.0825</td>\n",
       "    </tr>\n",
       "    <tr>\n",
       "      <th>worldnews</th>\n",
       "      <td>0.2125</td>\n",
       "      <td>0.5995</td>\n",
       "      <td>0.1585</td>\n",
       "    </tr>\n",
       "  </tbody>\n",
       "</table>\n",
       "</div>"
      ],
      "text/plain": [
       "               sentiment_title_score_neg  sentiment_title_score_neu  \\\n",
       "subreddit                                                             \n",
       "coffee                            0.1330                     0.7045   \n",
       "news                              0.1500                     0.6250   \n",
       "nottheonion                       0.2340                     0.5560   \n",
       "science                           0.1390                     0.7400   \n",
       "stocks                            0.2805                     0.4850   \n",
       "todayilearned                     0.1055                     0.7945   \n",
       "worldnews                         0.2125                     0.5995   \n",
       "\n",
       "               sentiment_title_score_pos  \n",
       "subreddit                                 \n",
       "coffee                            0.1855  \n",
       "news                              0.1530  \n",
       "nottheonion                       0.1170  \n",
       "science                           0.1120  \n",
       "stocks                            0.2345  \n",
       "todayilearned                     0.0825  \n",
       "worldnews                         0.1585  "
      ]
     },
     "execution_count": 80,
     "metadata": {},
     "output_type": "execute_result"
    }
   ],
   "source": [
    "dataframe.groupby(['subreddit']).median()"
   ]
  }
 ],
 "metadata": {
  "kernelspec": {
   "display_name": "Python 3.9.7 ('base')",
   "language": "python",
   "name": "python3"
  },
  "language_info": {
   "codemirror_mode": {
    "name": "ipython",
    "version": 3
   },
   "file_extension": ".py",
   "mimetype": "text/x-python",
   "name": "python",
   "nbconvert_exporter": "python",
   "pygments_lexer": "ipython3",
   "version": "3.9.7"
  },
  "orig_nbformat": 4,
  "vscode": {
   "interpreter": {
    "hash": "c4f92193806e2908606a5f23edd55a5282f2f433b73b1c504507f9256ed9f0b4"
   }
  }
 },
 "nbformat": 4,
 "nbformat_minor": 2
}
